{
 "cells": [
  {
   "cell_type": "markdown",
   "id": "c53f34b0",
   "metadata": {},
   "source": [
    "#  Email Spam Detection using Machine Learning\n",
    "This project uses a simple dataset of email messages and is built using Python and scikit-learn. The goal is to classify messages as either *spam* or *not spam* (ham)."
   ]
  },
  {
   "cell_type": "markdown",
   "id": "e3ddf94b",
   "metadata": {},
   "source": [
    "## Importing Libraries"
   ]
  },
  {
   "cell_type": "code",
   "execution_count": 1,
   "id": "aa3c6b16",
   "metadata": {},
   "outputs": [],
   "source": [
    "import pandas as pd\n",
    "import numpy as np"
   ]
  },
  {
   "cell_type": "markdown",
   "id": "be26f3a0",
   "metadata": {},
   "source": [
    "## Creating Dataset\n"
   ]
  },
  {
   "cell_type": "code",
   "execution_count": 2,
   "id": "f32d9092",
   "metadata": {},
   "outputs": [],
   "source": [
    "\n",
    "data = {\n",
    "    'label': ['ham', 'spam', 'ham', 'spam', 'ham', 'spam', 'ham', 'spam', 'ham', 'spam'],\n",
    "    'message': [\n",
    "        'Hey, just wanted to check in with you about the meeting.',\n",
    "        'Congratulations! You have won a $500 Amazon gift card. Click to claim now.',\n",
    "        'Are we still on for dinner tonight?',\n",
    "        'Urgent! Your account has been suspended. Login to verify.',\n",
    "        'Let’s catch up over coffee tomorrow.',\n",
    "        'Winner! You have been selected for a free trip to Paris.',\n",
    "        'Please review the attached document and send feedback.',\n",
    "        'You’ve been chosen for a cash prize. Respond immediately.',\n",
    "        'Can we move the call to 4 PM instead of 3?',\n",
    "        'Your credit card limit has been increased. Apply here!'\n",
    "    ]\n",
    "}\n"
   ]
  },
  {
   "cell_type": "markdown",
   "id": "0469820f",
   "metadata": {},
   "source": [
    "## Converting it into DataFrame"
   ]
  },
  {
   "cell_type": "code",
   "execution_count": 3,
   "id": "d33c37e7",
   "metadata": {},
   "outputs": [],
   "source": [
    "df = pd.DataFrame(data)"
   ]
  },
  {
   "cell_type": "markdown",
   "id": "fd7a22dc",
   "metadata": {},
   "source": [
    "## Saving and Loading CSV"
   ]
  },
  {
   "cell_type": "code",
   "execution_count": 4,
   "id": "fa681f73",
   "metadata": {},
   "outputs": [
    {
     "data": {
      "text/html": [
       "<div>\n",
       "<style scoped>\n",
       "    .dataframe tbody tr th:only-of-type {\n",
       "        vertical-align: middle;\n",
       "    }\n",
       "\n",
       "    .dataframe tbody tr th {\n",
       "        vertical-align: top;\n",
       "    }\n",
       "\n",
       "    .dataframe thead th {\n",
       "        text-align: right;\n",
       "    }\n",
       "</style>\n",
       "<table border=\"1\" class=\"dataframe\">\n",
       "  <thead>\n",
       "    <tr style=\"text-align: right;\">\n",
       "      <th></th>\n",
       "      <th>label</th>\n",
       "      <th>message</th>\n",
       "    </tr>\n",
       "  </thead>\n",
       "  <tbody>\n",
       "    <tr>\n",
       "      <th>0</th>\n",
       "      <td>ham</td>\n",
       "      <td>Hey, just wanted to check in with you about th...</td>\n",
       "    </tr>\n",
       "    <tr>\n",
       "      <th>1</th>\n",
       "      <td>spam</td>\n",
       "      <td>Congratulations! You have won a $500 Amazon gi...</td>\n",
       "    </tr>\n",
       "    <tr>\n",
       "      <th>2</th>\n",
       "      <td>ham</td>\n",
       "      <td>Are we still on for dinner tonight?</td>\n",
       "    </tr>\n",
       "    <tr>\n",
       "      <th>3</th>\n",
       "      <td>spam</td>\n",
       "      <td>Urgent! Your account has been suspended. Login...</td>\n",
       "    </tr>\n",
       "    <tr>\n",
       "      <th>4</th>\n",
       "      <td>ham</td>\n",
       "      <td>Let’s catch up over coffee tomorrow.</td>\n",
       "    </tr>\n",
       "  </tbody>\n",
       "</table>\n",
       "</div>"
      ],
      "text/plain": [
       "  label                                            message\n",
       "0   ham  Hey, just wanted to check in with you about th...\n",
       "1  spam  Congratulations! You have won a $500 Amazon gi...\n",
       "2   ham                Are we still on for dinner tonight?\n",
       "3  spam  Urgent! Your account has been suspended. Login...\n",
       "4   ham               Let’s catch up over coffee tomorrow."
      ]
     },
     "execution_count": 4,
     "metadata": {},
     "output_type": "execute_result"
    }
   ],
   "source": [
    "df.to_csv(\"email_spam.csv\", index=False)\n",
    "df.head()"
   ]
  },
  {
   "cell_type": "markdown",
   "id": "c67c88df",
   "metadata": {},
   "source": [
    "## Vectorization"
   ]
  },
  {
   "cell_type": "code",
   "execution_count": 5,
   "id": "90427d52",
   "metadata": {},
   "outputs": [],
   "source": [
    "from sklearn.feature_extraction.text import CountVectorizer\n",
    "\n",
    "vectorizer = CountVectorizer()\n",
    "X = vectorizer.fit_transform(df['message'])\n",
    "\n",
    "y = df['label'].map({'ham':0, 'spam':1})"
   ]
  },
  {
   "cell_type": "markdown",
   "id": "e6ee5487",
   "metadata": {},
   "source": [
    "## Train-test Split"
   ]
  },
  {
   "cell_type": "code",
   "execution_count": 6,
   "id": "7f2d2ba2",
   "metadata": {},
   "outputs": [],
   "source": [
    "from sklearn.model_selection import train_test_split\n",
    "\n",
    "X_train, X_test, y_train, y_test = train_test_split(X, y, test_size=0.2, random_state=42, stratify=y)"
   ]
  },
  {
   "cell_type": "markdown",
   "id": "e7facce2",
   "metadata": {},
   "source": [
    "## Prediction and Model Evaluation"
   ]
  },
  {
   "cell_type": "code",
   "execution_count": 7,
   "id": "2df5683b",
   "metadata": {},
   "outputs": [
    {
     "name": "stdout",
     "output_type": "stream",
     "text": [
      "Accuracy of the Model : 1.0\n"
     ]
    }
   ],
   "source": [
    "from sklearn.naive_bayes import MultinomialNB\n",
    "from sklearn.metrics import accuracy_score\n",
    "\n",
    "model = MultinomialNB()\n",
    "model.fit(X_train, y_train)\n",
    "\n",
    "y_pred = model.predict(X_test)\n",
    "\n",
    "accuracy = accuracy_score(y_test, y_pred)\n",
    "print(\"Accuracy of the Model :\", accuracy)"
   ]
  },
  {
   "cell_type": "markdown",
   "id": "9204c350",
   "metadata": {},
   "source": [
    "#### Conclusion\n",
    "\n",
    "The model was successfully trained using the Naive Bayes classifier from scikit-learn.  \n",
    "It achieved an accuracy of *100%* on the sample test data.\n"
   ]
  },
  {
   "cell_type": "markdown",
   "id": "affe21c1",
   "metadata": {},
   "source": [
    "\n",
    "## Custom Email Prediction\n",
    "\n",
    "In this final step, we can test the model by entering your own email text. The model will analyze the input and predict whether the email is *Spam * or *Ham *.\n",
    "\n",
    "###  Example:"
   ]
  },
  {
   "cell_type": "code",
   "execution_count": 12,
   "id": "5b7d6651",
   "metadata": {},
   "outputs": [
    {
     "name": "stdout",
     "output_type": "stream",
     "text": [
      "\n",
      " Result:\n",
      " Predicted Label: Ham \n"
     ]
    }
   ],
   "source": [
    "\n",
    "custom_email = input(\" Enter a custom email to check if it's spam or ham:\\n➡ \")\n",
    "custom_vector = vectorizer.transform([custom_email])\n",
    "prediction = model.predict(custom_vector)\n",
    "\n",
    "print(\"\\n Result:\")\n",
    "if prediction[0] == 1:\n",
    "    print(\" Predicted Label: Spam \")\n",
    "else:\n",
    "    print(\" Predicted Label: Ham \")"
   ]
  }
 ],
 "metadata": {
  "kernelspec": {
   "display_name": "Python 3",
   "language": "python",
   "name": "python3"
  },
  "language_info": {
   "codemirror_mode": {
    "name": "ipython",
    "version": 3
   },
   "file_extension": ".py",
   "mimetype": "text/x-python",
   "name": "python",
   "nbconvert_exporter": "python",
   "pygments_lexer": "ipython3",
   "version": "3.13.5"
  }
 },
 "nbformat": 4,
 "nbformat_minor": 5
}
